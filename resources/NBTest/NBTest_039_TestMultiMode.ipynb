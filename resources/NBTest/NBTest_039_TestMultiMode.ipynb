{
 "cells": [
  {
   "cell_type": "code",
   "execution_count": 1,
   "id": "84fa264b",
   "metadata": {
    "ExecuteTime": {
     "end_time": "2023-09-18T18:15:43.143191Z",
     "start_time": "2023-09-18T18:15:39.887986Z"
    }
   },
   "outputs": [
    {
     "name": "stdout",
     "output_type": "stream",
     "text": [
      "ConstantProductCurve v3.3.1 (05/Oct/2023)\n",
      "CarbonBot v3-b2.2 (20/June/2023)\n",
      "UniswapV2 v0.0.2 (2023-08-27)\n",
      "UniswapV3 v0.0.2 (2023-08-27)\n",
      "CarbonV1 v0.0.2 (2023-08-27)\n",
      "BancorV3 v0.0.2 (2023-08-27)\n",
      "imported m, np, pd, plt, os, sys, decimal; defined iseq, raises, require\n",
      "Version = 3-b2.2 [requirements >= 3.0 is met]\n"
     ]
    },
    {
     "name": "stderr",
     "output_type": "stream",
     "text": [
      "c:\\Users\\Kveen\\PycharmProjects\\fastlane-bot\\venv_11\\Lib\\site-packages\\tqdm\\auto.py:21: TqdmWarning: IProgress not found. Please update jupyter and ipywidgets. See https://ipywidgets.readthedocs.io/en/stable/user_install.html\n",
      "  from .autonotebook import tqdm as notebook_tqdm\n"
     ]
    }
   ],
   "source": [
    "# coding=utf-8\n",
    "\"\"\"\n",
    "This module contains the tests for the exchanges classes\n",
    "\"\"\"\n",
    "from fastlane_bot import Bot, Config\n",
    "from fastlane_bot.bot import CarbonBot\n",
    "from fastlane_bot.tools.cpc import ConstantProductCurve\n",
    "from fastlane_bot.tools.cpc import ConstantProductCurve as CPC\n",
    "from fastlane_bot.events.exchanges import UniswapV2, UniswapV3,  CarbonV1, BancorV3\n",
    "from fastlane_bot.events.interface import QueryInterface\n",
    "from fastlane_bot.helpers.poolandtokens import PoolAndTokens\n",
    "from fastlane_bot.helpers import TradeInstruction, TxReceiptHandler, TxRouteHandler, TxSubmitHandler, TxHelpers, TxHelper\n",
    "from fastlane_bot.events.managers.manager import Manager\n",
    "from fastlane_bot.events.interface import QueryInterface\n",
    "from joblib import Parallel, delayed\n",
    "import pytest\n",
    "import math\n",
    "import json\n",
    "print(\"{0.__name__} v{0.__VERSION__} ({0.__DATE__})\".format(CPC))\n",
    "print(\"{0.__name__} v{0.__VERSION__} ({0.__DATE__})\".format(Bot))\n",
    "print(\"{0.__name__} v{0.__VERSION__} ({0.__DATE__})\".format(UniswapV2))\n",
    "print(\"{0.__name__} v{0.__VERSION__} ({0.__DATE__})\".format(UniswapV3))\n",
    "print(\"{0.__name__} v{0.__VERSION__} ({0.__DATE__})\".format(CarbonV1))\n",
    "print(\"{0.__name__} v{0.__VERSION__} ({0.__DATE__})\".format(BancorV3))\n",
    "from fastlane_bot.testing import *\n",
    "#plt.style.use('seaborn-dark')\n",
    "plt.rcParams['figure.figsize'] = [12,6]\n",
    "from fastlane_bot import __VERSION__\n",
    "require(\"3.0\", __VERSION__)"
   ]
  },
  {
   "cell_type": "markdown",
   "id": "4c4e2283",
   "metadata": {},
   "source": [
    "# Multi Mode [NB039]"
   ]
  },
  {
   "cell_type": "code",
   "execution_count": 2,
   "id": "a51e5ec2",
   "metadata": {
    "ExecuteTime": {
     "end_time": "2023-09-18T18:15:45.783455Z",
     "start_time": "2023-09-18T18:15:43.141652Z"
    }
   },
   "outputs": [
    {
     "name": "stderr",
     "output_type": "stream",
     "text": [
      "2024-01-09 10:48:03,838 [fastlane:INFO] - \n",
      "2024-01-09 10:48:03,839 [fastlane:INFO] - **********************************************\n",
      "2024-01-09 10:48:03,839 [fastlane:INFO] - The logging path is set to: logs/20240109-104803\\bot.log\n",
      "2024-01-09 10:48:03,839 [fastlane:INFO] - **********************************************\n",
      "2024-01-09 10:48:03,839 [fastlane:INFO] - \n",
      "2024-01-09 10:48:08,839 [fastlane:INFO] - Time taken to add initial pools: 0.11427569389343262\n",
      "2024-01-09 10:48:08,843 [fastlane:INFO] - Initializing the bot...\n"
     ]
    }
   ],
   "source": [
    "C = cfg = Config.new(config=Config.CONFIG_MAINNET)\n",
    "cfg.DEFAULT_MIN_PROFIT_GAS_TOKEN = 0.00001\n",
    "assert (C.NETWORK == C.NETWORK_MAINNET)\n",
    "assert (C.PROVIDER == C.PROVIDER_ALCHEMY)\n",
    "setup_bot = CarbonBot(ConfigObj=C)\n",
    "pools = None\n",
    "with open('fastlane_bot/data/tests/latest_pool_data_testing.json') as f:\n",
    "    pools = json.load(f)\n",
    "pools = [pool for pool in pools]\n",
    "pools[0]\n",
    "static_pools = pools\n",
    "state = pools\n",
    "exchanges = list({ex['exchange_name'] for ex in state})\n",
    "db = QueryInterface(state=state, ConfigObj=C, exchanges=exchanges)\n",
    "setup_bot.db = db\n",
    "\n",
    "static_pool_data_filename = \"static_pool_data\"\n",
    "\n",
    "static_pool_data = pd.read_csv(f\"fastlane_bot/data/{static_pool_data_filename}.csv\", low_memory=False)\n",
    "    \n",
    "uniswap_v2_event_mappings = pd.read_csv(\"fastlane_bot/data/uniswap_v2_event_mappings.csv\", low_memory=False)\n",
    "        \n",
    "tokens = pd.read_csv(\"fastlane_bot/data/tokens.csv\", low_memory=False)\n",
    "        \n",
    "exchanges = \"carbon_v1,bancor_v3,uniswap_v3,uniswap_v2,sushiswap_v2\"\n",
    "\n",
    "exchanges = exchanges.split(\",\")\n",
    "\n",
    "\n",
    "alchemy_max_block_fetch = 20\n",
    "static_pool_data[\"cid\"] = [\n",
    "        cfg.w3.keccak(text=f\"{row['descr']}\").hex()\n",
    "        for index, row in static_pool_data.iterrows()\n",
    "    ]\n",
    "# Filter out pools that are not in the supported exchanges\n",
    "static_pool_data = [\n",
    "    row for index, row in static_pool_data.iterrows()\n",
    "    if row[\"exchange_name\"] in exchanges\n",
    "]\n",
    "\n",
    "static_pool_data = pd.DataFrame(static_pool_data)\n",
    "static_pool_data['exchange_name'].unique()\n",
    "# Initialize data fetch manager\n",
    "mgr = Manager(\n",
    "    web3=cfg.w3,\n",
    "    w3_async=cfg.w3_async,\n",
    "    cfg=cfg,\n",
    "    pool_data=static_pool_data.to_dict(orient=\"records\"),\n",
    "    SUPPORTED_EXCHANGES=exchanges,\n",
    "    alchemy_max_block_fetch=alchemy_max_block_fetch,\n",
    "    uniswap_v2_event_mappings=uniswap_v2_event_mappings,\n",
    "    tokens=tokens.to_dict(orient=\"records\"),\n",
    ")\n",
    "\n",
    "# Add initial pools for each row in the static_pool_data\n",
    "start_time = time.time()\n",
    "Parallel(n_jobs=-1, backend=\"threading\")(\n",
    "    delayed(mgr.add_pool_to_exchange)(row) for row in mgr.pool_data\n",
    ")\n",
    "cfg.logger.info(f\"Time taken to add initial pools: {time.time() - start_time}\")\n",
    "\n",
    "# check if any duplicate cid's exist in the pool data\n",
    "mgr.deduplicate_pool_data()\n",
    "cids = [pool[\"cid\"] for pool in mgr.pool_data]\n",
    "assert len(cids) == len(set(cids)), \"duplicate cid's exist in the pool data\"\n",
    "def init_bot(mgr: Manager) -> CarbonBot:\n",
    "    \"\"\"\n",
    "    Initializes the bot.\n",
    "\n",
    "    Parameters\n",
    "    ----------\n",
    "    mgr : Manager\n",
    "        The manager object.\n",
    "\n",
    "    Returns\n",
    "    -------\n",
    "    CarbonBot\n",
    "        The bot object.\n",
    "    \"\"\"\n",
    "    mgr.cfg.logger.info(\"Initializing the bot...\")\n",
    "    bot = CarbonBot(ConfigObj=mgr.cfg)\n",
    "    bot.db = db\n",
    "    bot.db.mgr = mgr\n",
    "    assert isinstance(\n",
    "        bot.db, QueryInterface\n",
    "    ), \"QueryInterface not initialized correctly\"\n",
    "    return bot\n",
    "bot = init_bot(mgr)\n",
    "# add data cleanup steps from main.py\n",
    "bot.db.remove_unmapped_uniswap_v2_pools()\n",
    "bot.db.remove_zero_liquidity_pools()\n",
    "bot.db.remove_unsupported_exchanges()\n",
    "tokens = bot.db.get_tokens()\n",
    "ADDRDEC = {t.address: (t.address, int(t.decimals)) for t in tokens if not math.isnan(t.decimals)}\n",
    "flashloan_tokens = bot.setup_flashloan_tokens(None)\n",
    "CCm = bot.setup_CCm(None)\n",
    "pools = db.get_pool_data_with_tokens()\n",
    "\n",
    "arb_mode = \"multi\""
   ]
  },
  {
   "cell_type": "markdown",
   "id": "a70cf16f",
   "metadata": {},
   "source": [
    "## Test_MIN_PROFIT"
   ]
  },
  {
   "cell_type": "code",
   "execution_count": 3,
   "id": "c8f41237",
   "metadata": {
    "ExecuteTime": {
     "end_time": "2023-09-18T18:15:45.788181Z",
     "start_time": "2023-09-18T18:15:45.783832Z"
    }
   },
   "outputs": [],
   "source": [
    "assert(cfg.DEFAULT_MIN_PROFIT_GAS_TOKEN <= 0.0001), f\"[TestMultiMode], default_min_profit_gas_token must be <= 0.02 for this Notebook to run, currently set to {cfg.DEFAULT_MIN_PROFIT_GAS_TOKEN}\""
   ]
  },
  {
   "cell_type": "markdown",
   "id": "eddfdea7",
   "metadata": {},
   "source": [
    "## Test_get_arb_finder"
   ]
  },
  {
   "cell_type": "code",
   "execution_count": 4,
   "id": "aaaf7423",
   "metadata": {
    "ExecuteTime": {
     "end_time": "2023-09-18T18:15:45.791151Z",
     "start_time": "2023-09-18T18:15:45.787478Z"
    }
   },
   "outputs": [],
   "source": [
    "arb_finder = bot._get_arb_finder(\"multi\")\n",
    "assert arb_finder.__name__ == \"FindArbitrageMultiPairwise\", f\"[TestMultiMode] Expected arb_finder class name name = FindArbitrageMultiPairwise, found {arb_finder.__name__}\""
   ]
  },
  {
   "cell_type": "markdown",
   "id": "9469cd63",
   "metadata": {},
   "source": [
    "## Test_Combos_and_Tokens"
   ]
  },
  {
   "cell_type": "code",
   "execution_count": 5,
   "id": "b1f40498",
   "metadata": {
    "ExecuteTime": {
     "end_time": "2023-09-18T18:15:45.793475Z",
     "start_time": "2023-09-18T18:15:45.790742Z"
    }
   },
   "outputs": [],
   "source": [
    "arb_finder = bot._get_arb_finder(\"multi\")\n",
    "finder2 = arb_finder(\n",
    "            flashloan_tokens=flashloan_tokens,\n",
    "            CCm=CCm,\n",
    "            mode=\"bothin\",\n",
    "            result=bot.AO_TOKENS,\n",
    "            ConfigObj=bot.ConfigObj,\n",
    "        )\n",
    "all_tokens, combos = finder2.find_arbitrage()\n",
    "\n",
    "assert type(all_tokens) == set, f\"[NBTest 039 TestMultiMode] all_tokens is wrong data type. Expected set, found: {type(all_tokens)}\"\n",
    "assert type(combos) == list, f\"[NBTest 039 TestMultiMode] combos is wrong data type. Expected list, found: {type(combos)}\"\n",
    "assert len(all_tokens) >= 236, f\"[NBTest 039 TestMultiMode] Using wrong dataset, expected at least 236 tokens, found {len(all_tokens)}\"\n",
    "assert len(combos) >= 1410, f\"[NBTest 039 TestMultiMode] Using wrong dataset, expected at least 1410 combos, found {len(combos)}\""
   ]
  },
  {
   "cell_type": "markdown",
   "id": "e703ba6b",
   "metadata": {},
   "source": [
    "## Test_Expected_Output"
   ]
  },
  {
   "cell_type": "code",
   "execution_count": 6,
   "id": "48e2f5a1",
   "metadata": {
    "ExecuteTime": {
     "end_time": "2023-09-18T18:15:46.786618Z",
     "start_time": "2023-09-18T18:15:45.801851Z"
    }
   },
   "outputs": [],
   "source": [
    "arb_finder = bot._get_arb_finder(\"multi\")\n",
    "finder = arb_finder(\n",
    "            flashloan_tokens=flashloan_tokens,\n",
    "            CCm=CCm,\n",
    "            mode=\"bothin\",\n",
    "            result=bot.AO_CANDIDATES,\n",
    "            ConfigObj=bot.ConfigObj,\n",
    "        )\n",
    "\n",
    "r = finder.find_arbitrage()\n",
    "\n",
    "multi_carbon_count = 0\n",
    "carbon_wrong_direction_count = 0\n",
    "for arb in r:\n",
    "    (\n",
    "            best_profit,\n",
    "            best_trade_instructions_df,\n",
    "            best_trade_instructions_dic,\n",
    "            best_src_token,\n",
    "            best_trade_instructions,\n",
    "        ) = arb\n",
    "    if len(best_trade_instructions_dic) > 2:\n",
    "        multi_carbon_count += 1\n",
    "        carbon_tkn_in = None\n",
    "        for trade in best_trade_instructions_dic:\n",
    "            if \"-\" in trade[\"cid\"]:\n",
    "                if carbon_tkn_in is None:\n",
    "                    carbon_tkn_in = trade[\"tknin\"]\n",
    "                else:\n",
    "                    if trade[\"tknin\"] not in carbon_tkn_in:\n",
    "                        carbon_wrong_direction_count += 1\n",
    "\n",
    "assert len(r) >= 27, f\"[NBTest 039 TestMultiMode] Expected at least 27 arbs, found {len(r)}\"\n",
    "assert multi_carbon_count > 0, f\"[NBTest 039 TestMultiMode] Not finding arbs with multiple Carbon curves.\"\n",
    "assert carbon_wrong_direction_count == 0, f\"[NBTest 039 TestMultiMode] Expected all Carbon curves to have the same tkn in and tkn out. Mixing is currently not supported.\""
   ]
  },
  {
   "cell_type": "code",
   "execution_count": null,
   "id": "e0a42eb3",
   "metadata": {},
   "outputs": [],
   "source": []
  }
 ],
 "metadata": {
  "jupytext": {
   "formats": "ipynb,py:light"
  },
  "kernelspec": {
   "display_name": "Python 3",
   "language": "python",
   "name": "python3"
  },
  "language_info": {
   "codemirror_mode": {
    "name": "ipython",
    "version": 3
   },
   "file_extension": ".py",
   "mimetype": "text/x-python",
   "name": "python",
   "nbconvert_exporter": "python",
   "pygments_lexer": "ipython3",
   "version": "3.11.5"
  }
 },
 "nbformat": 4,
 "nbformat_minor": 5
}
