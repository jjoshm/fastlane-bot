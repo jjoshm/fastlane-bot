{
 "cells": [
  {
   "cell_type": "code",
   "execution_count": 1,
   "id": "c539b26e",
   "metadata": {
    "ExecuteTime": {
     "end_time": "2023-11-08T09:55:33.066932Z",
     "start_time": "2023-11-08T09:55:33.017432Z"
    }
   },
   "outputs": [
    {
     "name": "stdout",
     "output_type": "stream",
     "text": [
      "ConstantProductCurve v3.3.1 (05/Oct/2023)\n",
      "CarbonBot v3-b2.2 (20/June/2023)\n",
      "UniswapV2 v0.0.2 (2023-08-27)\n",
      "UniswapV3 v0.0.2 (2023-08-27)\n",
      "CarbonV1 v0.0.2 (2023-08-27)\n",
      "BancorV3 v0.0.2 (2023-08-27)\n",
      "BancorV2 v0.0.2 (2023-08-27)\n",
      "Balancer v0.0.2 (2023-08-27)\n",
      "SolidlyV2 v0.0.2 (2023-08-27)\n",
      "imported m, np, pd, plt, os, sys, decimal; defined iseq, raises, require\n",
      "Version = 3-b2.2 [requirements >= 3.0 is met]\n"
     ]
    },
    {
     "name": "stderr",
     "output_type": "stream",
     "text": [
      "c:\\Users\\Kveen\\PycharmProjects\\fastlane-bot\\venv_11\\Lib\\site-packages\\tqdm\\auto.py:21: TqdmWarning: IProgress not found. Please update jupyter and ipywidgets. See https://ipywidgets.readthedocs.io/en/stable/user_install.html\n",
      "  from .autonotebook import tqdm as notebook_tqdm\n"
     ]
    }
   ],
   "source": [
    "import json\n",
    "\n",
    "from fastlane_bot import Bot\n",
    "from fastlane_bot.events.exchanges.balancer import Balancer\n",
    "from fastlane_bot.tools.cpc import ConstantProductCurve as CPC\n",
    "from fastlane_bot.events.exchanges import UniswapV2, UniswapV3, CarbonV1, BancorV3, BancorV2, BancorPol, SolidlyV2\n",
    "from fastlane_bot.data.abi import UNISWAP_V2_POOL_ABI, UNISWAP_V3_POOL_ABI, SUSHISWAP_POOLS_ABI, \\\n",
    "    BANCOR_V3_POOL_COLLECTION_ABI, \\\n",
    "    CARBON_CONTROLLER_ABI, BANCOR_V2_CONVERTER_ABI, BANCOR_POL_ABI, BALANCER_VAULT_ABI, PANCAKESWAP_V2_POOL_ABI, PANCAKESWAP_V3_POOL_ABI, SOLIDLY_V2_POOL_ABI, VELOCIMETER_V2_POOL_ABI\n",
    "\n",
    "from unittest.mock import Mock\n",
    "import nest_asyncio\n",
    "nest_asyncio.apply()\n",
    "import pytest\n",
    "import asyncio\n",
    "from unittest.mock import AsyncMock\n",
    "\n",
    "\n",
    "print(\"{0.__name__} v{0.__VERSION__} ({0.__DATE__})\".format(CPC))\n",
    "print(\"{0.__name__} v{0.__VERSION__} ({0.__DATE__})\".format(Bot))\n",
    "print(\"{0.__name__} v{0.__VERSION__} ({0.__DATE__})\".format(UniswapV2))\n",
    "print(\"{0.__name__} v{0.__VERSION__} ({0.__DATE__})\".format(UniswapV3))\n",
    "print(\"{0.__name__} v{0.__VERSION__} ({0.__DATE__})\".format(CarbonV1))\n",
    "print(\"{0.__name__} v{0.__VERSION__} ({0.__DATE__})\".format(BancorV3))\n",
    "print(\"{0.__name__} v{0.__VERSION__} ({0.__DATE__})\".format(BancorV2))\n",
    "print(\"{0.__name__} v{0.__VERSION__} ({0.__DATE__})\".format(Balancer))\n",
    "print(\"{0.__name__} v{0.__VERSION__} ({0.__DATE__})\".format(SolidlyV2))\n",
    "\n",
    "from fastlane_bot.testing import *\n",
    "\n",
    "#plt.style.use('seaborn-dark')\n",
    "plt.rcParams['figure.figsize'] = [12,6]\n",
    "from fastlane_bot import __VERSION__\n",
    "require(\"3.0\", __VERSION__)"
   ]
  },
  {
   "cell_type": "code",
   "execution_count": 2,
   "id": "9c8a3b4d",
   "metadata": {
    "ExecuteTime": {
     "end_time": "2023-11-08T09:55:33.069078Z",
     "start_time": "2023-11-08T09:55:33.021913Z"
    }
   },
   "outputs": [],
   "source": [
    "with open('fastlane_bot/data/event_test_data.json', 'r') as f:\n",
    "    setup_data = json.load(f)"
   ]
  },
  {
   "cell_type": "code",
   "execution_count": 3,
   "id": "cbe1ab01",
   "metadata": {
    "ExecuteTime": {
     "end_time": "2023-11-08T09:55:33.093535Z",
     "start_time": "2023-11-08T09:55:33.026331Z"
    }
   },
   "outputs": [],
   "source": [
    "\n",
    "mocked_contract = Mock()\n",
    "\n",
    "mocked_contract.functions.token0.return_value.call = AsyncMock(return_value='token0')\n",
    "mocked_contract.functions.token1.return_value.call = AsyncMock(return_value='token1')\n",
    "mocked_contract.functions._token0.return_value.call = AsyncMock(return_value='token0')\n",
    "mocked_contract.functions._token1.return_value.call = AsyncMock(return_value='token1')\n",
    "mocked_contract.functions.conversionFee.return_value.call = AsyncMock(return_value=3000)\n",
    "mocked_contract.functions.fee.return_value.call = AsyncMock(return_value=3000)\n",
    "mocked_contract.functions.tradingFeePPM.return_value.call = AsyncMock(return_value=2000)\n",
    "mocked_contract.functions.getSwapFeePercentage.call = AsyncMock(return_value=\"10000000000000000\" or 0.01)\n",
    "\n",
    "\n",
    "\n",
    "#mocked_contract.functions.getPoolTokens().call().return_value = "
   ]
  },
  {
   "cell_type": "markdown",
   "id": "5da5900a",
   "metadata": {},
   "source": [
    "## test_balancer_exchange"
   ]
  },
  {
   "cell_type": "code",
   "execution_count": 4,
   "id": "2a6f1bfd",
   "metadata": {
    "ExecuteTime": {
     "end_time": "2023-11-08T09:55:33.094293Z",
     "start_time": "2023-11-08T09:55:33.039773Z"
    }
   },
   "outputs": [],
   "source": [
    "balancer_exchange = Balancer()\n",
    "assert (balancer_exchange.get_abi() == BALANCER_VAULT_ABI)\n",
    "#assert (balancer_exchange.get_fee('', mocked_contract) == (\"10000000000000000\", 0.01))\n",
    "#assert (balancer_exchange.get_tokens('', mocked_contract, {}) == mocked_contract.functions.token0().call())"
   ]
  },
  {
   "cell_type": "markdown",
   "id": "413bc636",
   "metadata": {},
   "source": [
    "## test_solidly_v2_exchange"
   ]
  },
  {
   "cell_type": "code",
   "execution_count": 5,
   "id": "21982e07",
   "metadata": {},
   "outputs": [],
   "source": [
    "\n",
    "\n",
    "solidly_v2_exchange = SolidlyV2(exchange_name=\"solidly_v2\", fee=\"0.003\", router_address=\"jeffs_router\")\n",
    "\n",
    "@pytest.mark.asyncio\n",
    "async def test_uniswap_v2_exchange():\n",
    "    assert (solidly_v2_exchange.get_abi() == SOLIDLY_V2_POOL_ABI)\n",
    "    #assert (await solidly_v2_exchange.get_fee('', mocked_contract) == ('0.003', 0.003)), f\"{await solidly_v2_exchange.get_fee('', mocked_contract)}\"\n",
    "    assert (await solidly_v2_exchange.get_tkn0('', mocked_contract, None) == await mocked_contract.functions.token0().call())\n",
    "    assert (solidly_v2_exchange.router_address == \"jeffs_router\")\n",
    "\n",
    "# Run the test in an event loop\n",
    "asyncio.run(test_uniswap_v2_exchange())"
   ]
  },
  {
   "cell_type": "markdown",
   "id": "dc57b304",
   "metadata": {},
   "source": [
    "## test_solidly_v2_exchange_fork"
   ]
  },
  {
   "cell_type": "code",
   "execution_count": 6,
   "id": "d0f52957",
   "metadata": {},
   "outputs": [],
   "source": [
    "velocimeter_v2_exchange = SolidlyV2(exchange_name=\"velocimeter_v2\", fee=\"0.0025\", router_address=\"jjs_router\")\n",
    "\n",
    "@pytest.mark.asyncio\n",
    "async def test_uniswap_v2_exchange():\n",
    "    assert (velocimeter_v2_exchange.exchange_name in \"velocimeter_v2\"), f\"Wrong exchange name. Expected velocimeter_v2, got {velocimeter_v2_exchange.exchange_name}\"\n",
    "    assert (velocimeter_v2_exchange.base_exchange_name in \"solidly_v2\"), f\"Wrong base exchange name. Expected solidly_v2, got {velocimeter_v2_exchange.base_exchange_name}\"    \n",
    "    assert (velocimeter_v2_exchange.get_abi() == VELOCIMETER_V2_POOL_ABI)\n",
    "    #assert (await velocimeter_v2_exchange.get_fee('', mocked_contract) == ('0.0025', 0.0025)), f\"{await velocimeter_v2_exchange.get_fee('', mocked_contract)}\"\n",
    "    assert (await velocimeter_v2_exchange.get_tkn0('', mocked_contract, None) == await mocked_contract.functions.token0().call())\n",
    "    assert (velocimeter_v2_exchange.router_address == \"jjs_router\")\n",
    "\n",
    "# Run the test in an event loop\n",
    "asyncio.run(test_uniswap_v2_exchange())"
   ]
  },
  {
   "cell_type": "markdown",
   "id": "0d05e8f8",
   "metadata": {},
   "source": [
    "## test_uniswap_v2_exchange"
   ]
  },
  {
   "cell_type": "code",
   "execution_count": 7,
   "id": "e2347c4c",
   "metadata": {
    "ExecuteTime": {
     "end_time": "2023-11-08T09:55:33.095561Z",
     "start_time": "2023-11-08T09:55:33.044412Z"
    }
   },
   "outputs": [],
   "source": [
    "\n",
    "\n",
    "uniswap_v2_exchange = UniswapV2(fee=\"0.003\", router_address=\"bobs_router\")\n",
    "\n",
    "@pytest.mark.asyncio\n",
    "async def test_uniswap_v2_exchange():\n",
    "    assert (uniswap_v2_exchange.get_abi() == UNISWAP_V2_POOL_ABI)\n",
    "    assert (await uniswap_v2_exchange.get_fee('', mocked_contract) == ('0.003', 0.003)), f\"{await uniswap_v2_exchange.get_fee('', mocked_contract)}\"\n",
    "    assert (await uniswap_v2_exchange.get_tkn0('', mocked_contract, None) == await mocked_contract.functions.token0().call())\n",
    "    assert (uniswap_v2_exchange.router_address == \"bobs_router\")\n",
    "\n",
    "# Run the test in an event loop\n",
    "asyncio.run(test_uniswap_v2_exchange())"
   ]
  },
  {
   "cell_type": "markdown",
   "id": "71d681d1",
   "metadata": {},
   "source": [
    "## test_uniswap_v2_exchange_fork"
   ]
  },
  {
   "cell_type": "code",
   "execution_count": 8,
   "id": "f4148e2b",
   "metadata": {},
   "outputs": [],
   "source": [
    "\n",
    "\n",
    "pancake_v2_exchange = UniswapV2(exchange_name=\"pancakeswap_v2\",fee=\"0.0025\", router_address=\"freds_router\")\n",
    "\n",
    "@pytest.mark.asyncio\n",
    "async def test_uniswap_v2_exchange_fork():\n",
    "    assert (pancake_v2_exchange.exchange_name in \"pancakeswap_v2\"), f\"Wrong exchange name. Expected pancakeswap_v2, got {pancake_v2_exchange.exchange_name}\"\n",
    "    assert (pancake_v2_exchange.base_exchange_name in \"uniswap_v2\"), f\"Wrong base exchange name. Expected uniswap_v2, got {pancake_v2_exchange.base_exchange_name}\"    \n",
    "    assert (pancake_v2_exchange.get_abi() == PANCAKESWAP_V2_POOL_ABI)\n",
    "    assert (await pancake_v2_exchange.get_fee('', mocked_contract) == ('0.0025', 0.0025)), f\"{await uniswap_v2_exchange.get_fee('', mocked_contract)}\"\n",
    "    assert (await pancake_v2_exchange.get_tkn0('', mocked_contract, None) == await mocked_contract.functions.token0().call())\n",
    "    assert (pancake_v2_exchange.router_address == \"freds_router\")\n",
    "\n",
    "# Run the test in an event loop\n",
    "asyncio.run(test_uniswap_v2_exchange_fork())"
   ]
  },
  {
   "cell_type": "markdown",
   "id": "0794f15a",
   "metadata": {},
   "source": [
    "## test_uniswap_v3_exchange"
   ]
  },
  {
   "cell_type": "code",
   "execution_count": 9,
   "id": "43c80791",
   "metadata": {
    "ExecuteTime": {
     "end_time": "2023-11-08T09:55:33.096235Z",
     "start_time": "2023-11-08T09:55:33.048595Z"
    }
   },
   "outputs": [],
   "source": [
    "uniswap_v3_exchange = UniswapV3(router_address=\"bobs_router\")\n",
    "\n",
    "@pytest.mark.asyncio\n",
    "async def test_uniswap_v3_exchange():\n",
    "    assert (uniswap_v3_exchange.get_abi() == UNISWAP_V3_POOL_ABI)\n",
    "    assert (await uniswap_v3_exchange.get_fee('', mocked_contract) == (await mocked_contract.functions.fee().call(), (float(await mocked_contract.functions.fee().call()) / 1000000.0)))\n",
    "    assert (await uniswap_v3_exchange.get_tkn0('', mocked_contract, {}) == await mocked_contract.functions.token0().call())\n",
    "    assert (uniswap_v3_exchange.router_address == \"bobs_router\")\n",
    "# Run the test in an event loop\n",
    "asyncio.run(test_uniswap_v3_exchange())"
   ]
  },
  {
   "cell_type": "markdown",
   "id": "e0ce6a95",
   "metadata": {},
   "source": [
    "## test_uniswap_v3_exchange_fork"
   ]
  },
  {
   "cell_type": "code",
   "execution_count": 10,
   "id": "f70fb01b",
   "metadata": {},
   "outputs": [],
   "source": [
    "pancake_v3_exchange = UniswapV3(exchange_name=\"pancakeswap_v3\",router_address=\"bobs_router\")\n",
    "\n",
    "@pytest.mark.asyncio\n",
    "async def test_uniswap_v3_exchange():\n",
    "    assert (pancake_v3_exchange.exchange_name in \"pancakeswap_v3\"), f\"Wrong exchange name. Expected pancakeswap_v3, got {pancake_v3_exchange.exchange_name}\"\n",
    "    assert (pancake_v3_exchange.base_exchange_name in \"uniswap_v3\"), f\"Wrong base exchange name. Expected uniswap_v3, got {pancake_v3_exchange.base_exchange_name}\"    \n",
    "    assert (pancake_v3_exchange.get_abi() == PANCAKESWAP_V3_POOL_ABI)\n",
    "    assert (await pancake_v3_exchange.get_fee('', mocked_contract) == (await mocked_contract.functions.fee().call(), (float(await mocked_contract.functions.fee().call()) / 1000000.0)))\n",
    "    assert (await pancake_v3_exchange.get_tkn0('', mocked_contract, {}) == await mocked_contract.functions.token0().call())\n",
    "    assert (pancake_v3_exchange.router_address == \"bobs_router\")\n",
    "# Run the test in an event loop\n",
    "asyncio.run(test_uniswap_v3_exchange())"
   ]
  },
  {
   "cell_type": "markdown",
   "id": "5902a731",
   "metadata": {},
   "source": [
    "## test_bancor_v3_exchange"
   ]
  },
  {
   "cell_type": "code",
   "execution_count": 11,
   "id": "05e931be",
   "metadata": {
    "ExecuteTime": {
     "end_time": "2023-11-08T09:55:33.102972Z",
     "start_time": "2023-11-08T09:55:33.056215Z"
    }
   },
   "outputs": [],
   "source": [
    "bancor_v3_exchange = BancorV3()\n",
    "\n",
    "assert (bancor_v3_exchange.get_abi() == BANCOR_V3_POOL_COLLECTION_ABI)\n",
    "assert (bancor_v3_exchange.get_fee('', mocked_contract) == ('0.000', 0.0))\n",
    "assert (bancor_v3_exchange.get_tkn0('', mocked_contract, setup_data['bancor_v3_event']) == bancor_v3_exchange.BNT_ADDRESS)\n"
   ]
  },
  {
   "cell_type": "markdown",
   "id": "f32659a910430349",
   "metadata": {},
   "source": [
    "## test_bancor_v2_exchange"
   ]
  },
  {
   "cell_type": "code",
   "execution_count": 12,
   "id": "ed223a660ebc7420",
   "metadata": {
    "ExecuteTime": {
     "end_time": "2023-11-08T09:55:33.104269Z",
     "start_time": "2023-11-08T09:55:33.060016Z"
    }
   },
   "outputs": [],
   "source": [
    "bancor_v2_exchange = BancorV2()\n",
    "\n",
    "@pytest.mark.asyncio\n",
    "async def test_bancor_v2_exchange():\n",
    "    assert (bancor_v2_exchange.get_abi() == BANCOR_V2_CONVERTER_ABI)\n",
    "    assert (await bancor_v2_exchange.get_fee('', mocked_contract) == (3000, 0.003))\n",
    "    assert (await bancor_v2_exchange.get_tkn0('', mocked_contract, setup_data['bancor_v2_event']) == '0xEeeeeEeeeEeEeeEeEeEeeEEEeeeeEeeeeeeeEEeE')\n",
    "    \n",
    "# Run the test in an event loop\n",
    "asyncio.run(test_bancor_v2_exchange())"
   ]
  },
  {
   "cell_type": "markdown",
   "id": "e94d1f0f",
   "metadata": {},
   "source": [
    "## test_carbon_v1_exchange_update"
   ]
  },
  {
   "cell_type": "code",
   "execution_count": 13,
   "id": "69f70b07",
   "metadata": {
    "ExecuteTime": {
     "end_time": "2023-11-08T09:55:33.104365Z",
     "start_time": "2023-11-08T09:55:33.063784Z"
    }
   },
   "outputs": [],
   "source": [
    "carbon_v1_exchange = CarbonV1()\n",
    "\n",
    "@pytest.mark.asyncio\n",
    "async def test_carbon_v1_exchange_update():\n",
    "    assert (carbon_v1_exchange.get_abi() == CARBON_CONTROLLER_ABI)\n",
    "    assert (await carbon_v1_exchange.get_fee('', mocked_contract) == ('2000', 0.002))\n",
    "    assert (await carbon_v1_exchange.get_tkn0('', mocked_contract, setup_data['carbon_v1_event_update']) == setup_data['carbon_v1_event_update']['args']['token0'])\n",
    "    \n",
    "# Run the test in an event loop\n",
    "asyncio.run(test_carbon_v1_exchange_update())"
   ]
  },
  {
   "cell_type": "markdown",
   "id": "e8bcfdbb",
   "metadata": {},
   "source": [
    "## test_carbon_v1_exchange_create"
   ]
  },
  {
   "cell_type": "code",
   "execution_count": 14,
   "id": "62910e09",
   "metadata": {
    "ExecuteTime": {
     "end_time": "2023-11-08T09:55:33.105283Z",
     "start_time": "2023-11-08T09:55:33.066905Z"
    }
   },
   "outputs": [],
   "source": [
    "carbon_v1_exchange = CarbonV1()\n",
    "\n",
    "@pytest.mark.asyncio\n",
    "async def test_carbon_v1_exchange_create():\n",
    "    assert (carbon_v1_exchange.get_abi() == CARBON_CONTROLLER_ABI)\n",
    "    assert (await carbon_v1_exchange.get_fee('', mocked_contract) == ('2000', 0.002))\n",
    "    assert (await carbon_v1_exchange.get_tkn0('', mocked_contract, setup_data['carbon_v1_event_create']) == setup_data['carbon_v1_event_create']['args']['token0'])\n",
    "    \n",
    "# Run the test in an event loop\n",
    "asyncio.run(test_carbon_v1_exchange_create())"
   ]
  },
  {
   "cell_type": "markdown",
   "id": "978506b0",
   "metadata": {},
   "source": [
    "## test_carbon_v1_exchange_delete"
   ]
  },
  {
   "cell_type": "code",
   "execution_count": 15,
   "id": "cce5df61",
   "metadata": {
    "ExecuteTime": {
     "end_time": "2023-11-08T09:55:33.105561Z",
     "start_time": "2023-11-08T09:55:33.069001Z"
    }
   },
   "outputs": [],
   "source": [
    "carbon_v1_exchange = CarbonV1()\n",
    "assert (carbon_v1_exchange.get_abi() == CARBON_CONTROLLER_ABI)\n",
    "cid = setup_data['carbon_v1_event_delete']['args']['id']"
   ]
  },
  {
   "cell_type": "markdown",
   "id": "9a5a475fc6cc7665",
   "metadata": {},
   "source": [
    "test_bancor_pol_exchange"
   ]
  },
  {
   "cell_type": "code",
   "execution_count": 16,
   "id": "70948b0190d10035",
   "metadata": {
    "ExecuteTime": {
     "end_time": "2023-11-08T09:55:33.105619Z",
     "start_time": "2023-11-08T09:55:33.071830Z"
    }
   },
   "outputs": [],
   "source": [
    "bancor_pol_exchange = BancorPol()\n",
    "\n",
    "@pytest.mark.asyncio\n",
    "async def test_bancor_pol_exchange():\n",
    "    assert (bancor_pol_exchange.get_abi() == BANCOR_POL_ABI)\n",
    "    assert (await bancor_pol_exchange.get_fee('', mocked_contract) == ('0.000', 0.0))\n",
    "    assert (await bancor_pol_exchange.get_tkn0('', mocked_contract, setup_data['bancor_pol_trading_enabled_event']) == \"0x86772b1409b61c639EaAc9Ba0AcfBb6E238e5F83\")\n",
    "    \n",
    "# Run the test in an event loop\n",
    "asyncio.run(test_bancor_pol_exchange())"
   ]
  }
 ],
 "metadata": {
  "jupytext": {
   "formats": "ipynb,py:light"
  },
  "kernelspec": {
   "display_name": "Python 3",
   "language": "python",
   "name": "python3"
  },
  "language_info": {
   "codemirror_mode": {
    "name": "ipython",
    "version": 3
   },
   "file_extension": ".py",
   "mimetype": "text/x-python",
   "name": "python",
   "nbconvert_exporter": "python",
   "pygments_lexer": "ipython3",
   "version": "3.11.5"
  }
 },
 "nbformat": 4,
 "nbformat_minor": 5
}
