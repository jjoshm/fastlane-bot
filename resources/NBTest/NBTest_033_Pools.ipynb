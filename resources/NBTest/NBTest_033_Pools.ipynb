{
 "cells": [
  {
   "cell_type": "code",
   "execution_count": 1,
   "id": "6580a545",
   "metadata": {
    "ExecuteTime": {
     "end_time": "2023-10-13T01:34:18.410210Z",
     "start_time": "2023-10-13T01:34:17.375032Z"
    }
   },
   "outputs": [
    {
     "name": "stdout",
     "output_type": "stream",
     "text": [
      "ConstantProductCurve v3.3.1 (05/Oct/2023)\n",
      "CarbonBot v3-b2.2 (20/June/2023)\n",
      "UniswapV2Pool v0.0.1 (2023-07-03)\n",
      "UniswapV3Pool v0.0.1 (2023-07-03)\n",
      "CarbonV1Pool v0.0.1 (2023-07-03)\n",
      "BancorV3Pool v0.0.1 (2023-07-03)\n",
      "BancorV2Pool v0.0.1 (2023-07-03)\n",
      "BancorPolPool v0.0.1 (2023-07-03)\n",
      "imported m, np, pd, plt, os, sys, decimal; defined iseq, raises, require\n",
      "Version = 3-b2.2 [requirements >= 3.0 is met]\n"
     ]
    },
    {
     "name": "stderr",
     "output_type": "stream",
     "text": [
      "c:\\Users\\Kveen\\PycharmProjects\\fastlane-bot\\venv_11\\Lib\\site-packages\\tqdm\\auto.py:21: TqdmWarning: IProgress not found. Please update jupyter and ipywidgets. See https://ipywidgets.readthedocs.io/en/stable/user_install.html\n",
      "  from .autonotebook import tqdm as notebook_tqdm\n"
     ]
    }
   ],
   "source": [
    "import json\n",
    "\n",
    "import pytest\n",
    "\n",
    "from fastlane_bot import Bot\n",
    "from fastlane_bot.events.pools import UniswapV2Pool, UniswapV3Pool, BancorV3Pool, CarbonV1Pool, \\\n",
    "    BancorV2Pool, BancorPolPool, SolidlyV2Pool\n",
    "from fastlane_bot.tools.cpc import ConstantProductCurve as CPC\n",
    "\n",
    "print(\"{0.__name__} v{0.__VERSION__} ({0.__DATE__})\".format(CPC))\n",
    "print(\"{0.__name__} v{0.__VERSION__} ({0.__DATE__})\".format(Bot))\n",
    "print(\"{0.__name__} v{0.__VERSION__} ({0.__DATE__})\".format(UniswapV2Pool))\n",
    "print(\"{0.__name__} v{0.__VERSION__} ({0.__DATE__})\".format(UniswapV3Pool))\n",
    "print(\"{0.__name__} v{0.__VERSION__} ({0.__DATE__})\".format(CarbonV1Pool))\n",
    "print(\"{0.__name__} v{0.__VERSION__} ({0.__DATE__})\".format(BancorV3Pool))\n",
    "print(\"{0.__name__} v{0.__VERSION__} ({0.__DATE__})\".format(BancorV2Pool))\n",
    "print(\"{0.__name__} v{0.__VERSION__} ({0.__DATE__})\".format(BancorPolPool))\n",
    "print(\"{0.__name__} v{0.__VERSION__} ({0.__DATE__})\".format(SolidlyV2Pool))\n",
    "\n",
    "\n",
    "from fastlane_bot.testing import *\n",
    "\n",
    "#plt.style.use('seaborn-dark')\n",
    "plt.rcParams['figure.figsize'] = [12,6]\n",
    "from fastlane_bot import __VERSION__\n",
    "require(\"3.0\", __VERSION__)"
   ]
  },
  {
   "cell_type": "code",
   "execution_count": 2,
   "id": "14b3c378",
   "metadata": {
    "ExecuteTime": {
     "end_time": "2023-10-13T01:34:18.413414Z",
     "start_time": "2023-10-13T01:34:18.410965Z"
    }
   },
   "outputs": [],
   "source": [
    "with open('fastlane_bot/data/event_test_data.json', 'r') as f:\n",
    "    setup_data = json.load(f)"
   ]
  },
  {
   "cell_type": "markdown",
   "id": "e7776b99",
   "metadata": {},
   "source": [
    "## test_uniswap_v2_pool"
   ]
  },
  {
   "cell_type": "code",
   "execution_count": 3,
   "id": "4bf9ea77",
   "metadata": {
    "ExecuteTime": {
     "end_time": "2023-10-13T01:34:18.426741Z",
     "start_time": "2023-10-13T01:34:18.413836Z"
    }
   },
   "outputs": [],
   "source": [
    "uniswap_v2_pool = UniswapV2Pool()\n",
    "uniswap_v2_pool.update_from_event(setup_data['uniswap_v2_event'], {'cid': '0x', 'fee': '0.000', 'fee_float': 0.0, 'exchange_name': 'sushiswap_v2', 'reserve0': setup_data['uniswap_v2_event']['args']['reserve0'], 'reserve1': setup_data['uniswap_v2_event']['args']['reserve1'], 'tkn0_symbol': 'tkn0', 'tkn1_symbol': 'tkn1'})\n",
    "assert (uniswap_v2_pool.state['tkn0_balance'] == setup_data['uniswap_v2_event']['args']['reserve0'])"
   ]
  },
  {
   "cell_type": "markdown",
   "id": "c0da19d0",
   "metadata": {},
   "source": [
    "## test_solidly_v2_pool"
   ]
  },
  {
   "cell_type": "code",
   "execution_count": 4,
   "id": "e50682ea",
   "metadata": {},
   "outputs": [],
   "source": [
    "solidly_v2_pool = SolidlyV2Pool()\n",
    "solidly_v2_pool.update_from_event(setup_data['solidly_v2_event'], {'cid': '0x', 'fee': '0.000', 'fee_float': 0.0, 'exchange_name': 'velocimeter_v2', 'reserve0': setup_data['solidly_v2_event']['args']['reserve0'], 'reserve1': setup_data['solidly_v2_event']['args']['reserve1'], 'tkn0_symbol': 'tkn0', 'tkn1_symbol': 'tkn1'})\n",
    "assert (solidly_v2_pool.state['tkn0_balance'] == setup_data['solidly_v2_event']['args']['reserve0'])"
   ]
  },
  {
   "cell_type": "markdown",
   "id": "5e07f1229048cd9c",
   "metadata": {},
   "source": [
    "## test_bancor_v2_pool"
   ]
  },
  {
   "cell_type": "code",
   "execution_count": 5,
   "id": "4dfe57c17c271eec",
   "metadata": {
    "ExecuteTime": {
     "end_time": "2023-10-13T01:34:18.426896Z",
     "start_time": "2023-10-13T01:34:18.416783Z"
    }
   },
   "outputs": [],
   "source": [
    "bancor_v2_pool = BancorV2Pool()\n",
    "bancor_v2_pool.state['tkn0_address'] = '0xEeeeeEeeeEeEeeEeEeEeeEEEeeeeEeeeeeeeEEeE'\n",
    "bancor_v2_pool.state['tkn1_address'] = '0x1F573D6Fb3F13d689FF844B4cE37794d79a7FF1C'\n",
    "bancor_v2_pool.state['anchor']= '0xb1CD6e4153B2a390Cf00A6556b0fC1458C4A5533'\n",
    "bancor_v2_pool.update_from_event(setup_data['bancor_v2_event'], {'cid': '0x', 'fee': '0.000', 'fee_float': 0.0, 'exchange_name': 'bancor_v2'})\n",
    "assert (5698079648237338312679700 == setup_data['bancor_v2_event']['args']['_rateN']), f\"expected {bancor_v2_pool.state['tkn0_balance']}, found {setup_data['bancor_v2_event']['args']['_rateN']}\"\n",
    "assert (1404376232459809237924 == setup_data['bancor_v2_event']['args']['_rateD']), f\"expected {bancor_v2_pool.state['tkn1_balance']}, found {setup_data['bancor_v2_event']['args']['_rateD']}\""
   ]
  },
  {
   "cell_type": "markdown",
   "id": "c98ce5d4",
   "metadata": {},
   "source": [
    "## test_pancakeswap_v2_pool"
   ]
  },
  {
   "cell_type": "code",
   "execution_count": 6,
   "id": "4dc0c536",
   "metadata": {
    "ExecuteTime": {
     "end_time": "2023-10-13T01:34:18.426978Z",
     "start_time": "2023-10-13T01:34:18.422174Z"
    }
   },
   "outputs": [],
   "source": [
    "pancakeswap_v2_pool = UniswapV2Pool()\n",
    "pancakeswap_v2_pool.update_from_event(setup_data['pancakeswap_v2_event'], {'cid': '0x', 'fee': '0.000', 'fee_float': 0.0, 'exchange_name': 'pancakeswap_v2', 'reserve0': setup_data['pancakeswap_v2_event']['args']['reserve0'], 'reserve1': setup_data['pancakeswap_v2_event']['args']['reserve1'], 'tkn0_symbol': 'tkn0', 'tkn1_symbol': 'tkn1'})\n",
    "assert (pancakeswap_v2_pool.state['tkn0_balance'] == setup_data['pancakeswap_v2_event']['args']['reserve0'])"
   ]
  },
  {
   "cell_type": "markdown",
   "id": "eb37cc15",
   "metadata": {},
   "source": [
    "## test_uniswap_v3_pool"
   ]
  },
  {
   "cell_type": "code",
   "execution_count": 7,
   "id": "cb1ac3fd",
   "metadata": {
    "ExecuteTime": {
     "end_time": "2023-10-13T01:34:18.443136Z",
     "start_time": "2023-10-13T01:34:18.427419Z"
    }
   },
   "outputs": [],
   "source": [
    "uniswap_v3_pool = UniswapV3Pool()\n",
    "uniswap_v3_pool.update_from_event(setup_data['uniswap_v3_event'], {'cid': '0x', 'fee': '0.000', 'fee_float': 0.0, 'exchange_name': 'uniswap_v3', 'liquidity': setup_data['uniswap_v3_event']['args']['liquidity'], 'sqrtPriceX96': setup_data['uniswap_v3_event']['args']['sqrtPriceX96'], 'tick': setup_data['uniswap_v3_event']['args']['tick'], 'tkn0_symbol': 'tkn0', 'tkn1_symbol': 'tkn1'})\n",
    "assert (uniswap_v3_pool.state['liquidity'] == setup_data['uniswap_v3_event']['args']['liquidity'])\n",
    "assert (uniswap_v3_pool.state['sqrt_price_q96'] == setup_data['uniswap_v3_event']['args']['sqrtPriceX96'])"
   ]
  },
  {
   "cell_type": "markdown",
   "id": "681932e3",
   "metadata": {},
   "source": [
    "## test_pancakeswap_v3_pool"
   ]
  },
  {
   "cell_type": "code",
   "execution_count": 8,
   "id": "b9e2b422",
   "metadata": {
    "ExecuteTime": {
     "end_time": "2023-10-13T01:34:18.471951Z",
     "start_time": "2023-10-13T01:34:18.430145Z"
    }
   },
   "outputs": [],
   "source": [
    "pancakeswap_v3_pool = UniswapV3Pool()\n",
    "pancakeswap_v3_pool.update_from_event(setup_data['pancakeswap_v3_event'], {'cid': '0x', 'fee': '0.000', 'fee_float': 0.0, 'exchange_name': 'pancakeswap_v3', 'liquidity': setup_data['pancakeswap_v3_event']['args']['liquidity'], 'sqrtPriceX96': setup_data['pancakeswap_v3_event']['args']['sqrtPriceX96'], 'tick': setup_data['pancakeswap_v3_event']['args']['tick'], 'tkn0_symbol': 'tkn0', 'tkn1_symbol': 'tkn1'})\n",
    "assert (pancakeswap_v3_pool.state['liquidity'] == setup_data['pancakeswap_v3_event']['args']['liquidity'])\n",
    "assert (pancakeswap_v3_pool.state['sqrt_price_q96'] == setup_data['pancakeswap_v3_event']['args']['sqrtPriceX96'])"
   ]
  },
  {
   "cell_type": "markdown",
   "id": "2f100542",
   "metadata": {},
   "source": [
    "## test_bancor_v3_pool"
   ]
  },
  {
   "cell_type": "code",
   "execution_count": 9,
   "id": "d69d49a3",
   "metadata": {
    "ExecuteTime": {
     "end_time": "2023-10-13T01:34:18.476547Z",
     "start_time": "2023-10-13T01:34:18.433665Z"
    }
   },
   "outputs": [
    {
     "data": {
      "text/plain": [
       "{'cid': '0x',\n",
       " 'fee': '0.000',\n",
       " 'fee_float': 0.0,\n",
       " 'exchange_name': 'bancor_v3',\n",
       " 'tkn0_balance': 2981332708522538339515032,\n",
       " 'tkn1_balance': 2981332708522538339515032,\n",
       " 'tkn0_symbol': 'tkn0',\n",
       " 'tkn1_symbol': 'tkn1'}"
      ]
     },
     "execution_count": 9,
     "metadata": {},
     "output_type": "execute_result"
    }
   ],
   "source": [
    "bancor_v3_pool = BancorV3Pool()\n",
    "bancor_v3_pool.update_from_event(setup_data['bancor_v3_event'], {'cid': '0x', 'fee': '0.000', 'fee_float': 0.0, 'exchange_name': 'bancor_v3', 'tkn0_balance': setup_data['bancor_v3_event']['args']['newLiquidity'], 'tkn1_balance': 0, 'tkn0_symbol': 'tkn0', 'tkn1_symbol': 'tkn1'})"
   ]
  },
  {
   "cell_type": "markdown",
   "id": "7a561649",
   "metadata": {},
   "source": [
    "## test_carbon_v1_pool_update"
   ]
  },
  {
   "cell_type": "code",
   "execution_count": 10,
   "id": "4e331537",
   "metadata": {
    "ExecuteTime": {
     "end_time": "2023-10-13T01:34:18.476610Z",
     "start_time": "2023-10-13T01:34:18.437380Z"
    }
   },
   "outputs": [],
   "source": [
    "carbon_v1_pool = CarbonV1Pool()\n",
    "carbon_v1_pool.update_from_event(setup_data['carbon_v1_event_create_for_update'], {})\n",
    "assert (setup_data['carbon_v1_event_update']['args']['id'] == carbon_v1_pool.state['cid'])\n",
    "assert (carbon_v1_pool.state['y_0'] == 0)\n",
    "assert (carbon_v1_pool.state['z_0'] == 0)\n",
    "assert (carbon_v1_pool.state['A_0'] == 0)\n",
    "assert (carbon_v1_pool.state['B_0'] == 0)\n",
    "assert (carbon_v1_pool.state['y_1'] == 0)\n",
    "assert (carbon_v1_pool.state['z_1'] == 0)\n",
    "assert (carbon_v1_pool.state['A_1'] == 0)\n",
    "assert (carbon_v1_pool.state['B_1'] == 0)\n",
    "carbon_v1_pool.update_from_event(setup_data['carbon_v1_event_update'], {})\n",
    "assert (carbon_v1_pool.state['y_0'] == setup_data['carbon_v1_event_update']['args']['order0'][0])\n",
    "assert (carbon_v1_pool.state['z_0'] == setup_data['carbon_v1_event_update']['args']['order0'][1])\n",
    "assert (carbon_v1_pool.state['A_0'] == setup_data['carbon_v1_event_update']['args']['order0'][2])\n",
    "assert (carbon_v1_pool.state['B_0'] == setup_data['carbon_v1_event_update']['args']['order0'][3])\n",
    "assert (carbon_v1_pool.state['y_1'] == setup_data['carbon_v1_event_update']['args']['order1'][0])\n",
    "assert (carbon_v1_pool.state['z_1'] == setup_data['carbon_v1_event_update']['args']['order1'][1])\n",
    "assert (carbon_v1_pool.state['A_1'] == setup_data['carbon_v1_event_update']['args']['order1'][2])"
   ]
  },
  {
   "cell_type": "markdown",
   "id": "4742725c",
   "metadata": {},
   "source": [
    "## test_carbon_v1_pool_delete"
   ]
  },
  {
   "cell_type": "code",
   "execution_count": 11,
   "id": "6a9b1034",
   "metadata": {
    "ExecuteTime": {
     "end_time": "2023-10-13T01:34:18.476651Z",
     "start_time": "2023-10-13T01:34:18.441312Z"
    }
   },
   "outputs": [],
   "source": [
    "carbon_v1_pool = CarbonV1Pool()\n",
    "carbon_v1_pool.update_from_event(setup_data['carbon_v1_event_create_for_delete'], {})\n",
    "assert (setup_data['carbon_v1_event_delete']['args']['id'] == carbon_v1_pool.state['cid'])\n",
    "assert (carbon_v1_pool.state['y_0'] == setup_data['carbon_v1_event_delete']['args']['order0'][0])\n",
    "assert (carbon_v1_pool.state['z_0'] == setup_data['carbon_v1_event_delete']['args']['order0'][1])\n",
    "assert (carbon_v1_pool.state['A_0'] == setup_data['carbon_v1_event_delete']['args']['order0'][2])\n",
    "assert (carbon_v1_pool.state['B_0'] == setup_data['carbon_v1_event_delete']['args']['order0'][3])\n",
    "assert (carbon_v1_pool.state['y_1'] == setup_data['carbon_v1_event_delete']['args']['order1'][0])\n",
    "assert (carbon_v1_pool.state['z_1'] == setup_data['carbon_v1_event_delete']['args']['order1'][1])\n",
    "assert (carbon_v1_pool.state['A_1'] == setup_data['carbon_v1_event_delete']['args']['order1'][2])\n",
    "assert (carbon_v1_pool.state['B_1'] == setup_data['carbon_v1_event_delete']['args']['order1'][3])\n",
    "carbon_v1_pool.update_from_event(setup_data['carbon_v1_event_delete'], {})\n",
    "assert (carbon_v1_pool.state['y_0'] == 0)\n",
    "assert (carbon_v1_pool.state['z_0'] == 0)\n",
    "assert (carbon_v1_pool.state['A_0'] == 0)\n",
    "assert (carbon_v1_pool.state['B_0'] == 0)\n",
    "assert (carbon_v1_pool.state['y_1'] == 0)\n",
    "assert (carbon_v1_pool.state['z_1'] == 0)\n",
    "assert (carbon_v1_pool.state['A_1'] == 0)"
   ]
  },
  {
   "cell_type": "markdown",
   "id": "b23eb1bda7161783",
   "metadata": {},
   "source": []
  },
  {
   "cell_type": "markdown",
   "id": "46617bc4b132b353",
   "metadata": {},
   "source": [
    "## test_bancor_pol_token_traded_event"
   ]
  },
  {
   "cell_type": "code",
   "execution_count": 12,
   "id": "fb389643",
   "metadata": {
    "ExecuteTime": {
     "end_time": "2023-10-13T01:34:18.477183Z",
     "start_time": "2023-10-13T01:34:18.444873Z"
    }
   },
   "outputs": [],
   "source": [
    "bancor_pol_pool = BancorPolPool()\n",
    "bancor_pol_pool.state['tkn0_address'] = setup_data['bancor_pol_token_traded_event']['args']['token']\n",
    "bancor_pol_pool.state['tkn0_balance'] = 10 + setup_data['bancor_pol_token_traded_event']['args']['amount']\n",
    "bancor_pol_pool.update_from_event(setup_data['bancor_pol_token_traded_event'], \n",
    "                  {'cid': '0x', \n",
    "                   'fee': '0.000', \n",
    "                   'fee_float': 0.0, \n",
    "                   'exchange_name': 'bancor_pol', \n",
    "                   'token': setup_data['bancor_pol_token_traded_event']['args']['token'], \n",
    "                   'amount': setup_data['bancor_pol_token_traded_event']['args']['amount'], \n",
    "                   'ethReceived': setup_data['bancor_pol_token_traded_event']['args']['ethReceived'], \n",
    "                   'tkn0_symbol': 'tkn0', \n",
    "                   'tkn1_symbol': 'tkn1',}\n",
    ")\n",
    "assert (bancor_pol_pool.state['tkn0_balance'] == 10 + setup_data['bancor_pol_token_traded_event']['args']['amount'])"
   ]
  },
  {
   "cell_type": "markdown",
   "id": "6d14cfb18d534c28",
   "metadata": {},
   "source": [
    "## test_bancor_pol_trading_enabled_event"
   ]
  },
  {
   "cell_type": "code",
   "execution_count": 13,
   "id": "afb5a056",
   "metadata": {
    "ExecuteTime": {
     "end_time": "2023-10-13T01:34:18.477293Z",
     "start_time": "2023-10-13T01:34:18.449242Z"
    }
   },
   "outputs": [],
   "source": [
    "bancor_pol_pool = BancorPolPool()\n",
    "bancor_pol_pool.state['tkn0_address'] = None\n",
    "bancor_pol_pool.update_from_event(setup_data['bancor_pol_trading_enabled_event'],\n",
    "                                  {'cid': '0x',\n",
    "                                   'fee': '0.000',\n",
    "                                   'fee_float': 0.0,\n",
    "                                   'exchange_name': 'bancor_pol',\n",
    "                                   'token': setup_data['bancor_pol_trading_enabled_event']['args']['token'],\n",
    "                                   'tkn0_symbol': 'tkn0',\n",
    "                                   'tkn1_symbol': 'tkn1'}\n",
    "                                  )\n",
    "assert (bancor_pol_pool.state['tkn0_address'] == setup_data['bancor_pol_trading_enabled_event']['args']['token'])"
   ]
  }
 ],
 "metadata": {
  "jupytext": {
   "formats": "ipynb,auto:light"
  },
  "kernelspec": {
   "display_name": "Python 3 (ipykernel)",
   "language": "python",
   "name": "python3"
  },
  "language_info": {
   "codemirror_mode": {
    "name": "ipython",
    "version": 3
   },
   "file_extension": ".py",
   "mimetype": "text/x-python",
   "name": "python",
   "nbconvert_exporter": "python",
   "pygments_lexer": "ipython3",
   "version": "3.11.5"
  }
 },
 "nbformat": 4,
 "nbformat_minor": 5
}
